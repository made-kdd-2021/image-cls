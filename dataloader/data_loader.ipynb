{
  "nbformat": 4,
  "nbformat_minor": 0,
  "metadata": {
    "colab": {
      "name": "data_loader.ipynb",
      "provenance": [],
      "toc_visible": true
    },
    "kernelspec": {
      "display_name": "Python 3",
      "language": "python",
      "name": "python3"
    },
    "language_info": {
      "codemirror_mode": {
        "name": "ipython",
        "version": 3
      },
      "file_extension": ".py",
      "mimetype": "text/x-python",
      "name": "python",
      "nbconvert_exporter": "python",
      "pygments_lexer": "ipython3",
      "version": "3.8.5"
    }
  },
  "cells": [
    {
      "cell_type": "code",
      "metadata": {
        "colab": {
          "base_uri": "https://localhost:8080/",
          "height": 1000
        },
        "id": "WIHP8lwSujmb",
        "outputId": "f2025ffa-2df0-4a10-eafa-ad4ea2c91d76"
      },
      "source": [
        "!git clone -b develop https://github.com/made-kdd-2021/image-cls.git\n",
        "%cd /content/image-cls\n",
        "!pip install -r ./requirements.cpu.txt -r ./requirements.dev.txt"
      ],
      "execution_count": 6,
      "outputs": [
        {
          "output_type": "stream",
          "name": "stdout",
          "text": [
            "Cloning into 'image-cls'...\n",
            "remote: Enumerating objects: 115, done.\u001b[K\n",
            "remote: Counting objects: 100% (115/115), done.\u001b[K\n",
            "remote: Compressing objects: 100% (66/66), done.\u001b[K\n",
            "remote: Total 115 (delta 29), reused 102 (delta 25), pack-reused 0\u001b[K\n",
            "Receiving objects: 100% (115/115), 27.51 KiB | 1.45 MiB/s, done.\n",
            "Resolving deltas: 100% (29/29), done.\n",
            "/content/image-cls\n",
            "Looking in links: https://download.pytorch.org/whl/torch_stable.html\n",
            "Collecting torchvision==0.10.1+cpu\n",
            "  Downloading https://download.pytorch.org/whl/cpu/torchvision-0.10.1%2Bcpu-cp37-cp37m-linux_x86_64.whl (15.7 MB)\n",
            "\u001b[K     |████████████████████████████████| 15.7 MB 20 kB/s \n",
            "\u001b[?25hCollecting torch==1.9.1+cpu\n",
            "  Downloading https://download.pytorch.org/whl/cpu/torch-1.9.1%2Bcpu-cp37-cp37m-linux_x86_64.whl (175.4 MB)\n",
            "\u001b[K     |████████████████████████████████| 175.4 MB 27 kB/s \n",
            "\u001b[?25hCollecting autopep8\n",
            "  Downloading autopep8-1.6.0-py2.py3-none-any.whl (45 kB)\n",
            "\u001b[K     |████████████████████████████████| 45 kB 1.6 MB/s \n",
            "\u001b[?25hCollecting pylint\n",
            "  Downloading pylint-2.11.1-py3-none-any.whl (392 kB)\n",
            "\u001b[K     |████████████████████████████████| 392 kB 9.2 MB/s \n",
            "\u001b[?25hRequirement already satisfied: pytest in /usr/local/lib/python3.7/dist-packages (from -r ./requirements.dev.txt (line 3)) (3.6.4)\n",
            "Collecting pytest-cov\n",
            "  Downloading pytest_cov-3.0.0-py3-none-any.whl (20 kB)\n",
            "Collecting dvc[gdrive]~=2.7\n",
            "  Downloading dvc-2.8.2-py3-none-any.whl (393 kB)\n",
            "\u001b[K     |████████████████████████████████| 393 kB 38.6 MB/s \n",
            "\u001b[?25hRequirement already satisfied: pillow>=5.3.0 in /usr/local/lib/python3.7/dist-packages (from torchvision==0.10.1+cpu->-r ./requirements.cpu.txt (line 2)) (7.1.2)\n",
            "Requirement already satisfied: numpy in /usr/local/lib/python3.7/dist-packages (from torchvision==0.10.1+cpu->-r ./requirements.cpu.txt (line 2)) (1.19.5)\n",
            "Requirement already satisfied: typing-extensions in /usr/local/lib/python3.7/dist-packages (from torch==1.9.1+cpu->-r ./requirements.cpu.txt (line 3)) (3.7.4.3)\n",
            "Requirement already satisfied: tabulate>=0.8.7 in /usr/local/lib/python3.7/dist-packages (from dvc[gdrive]~=2.7->-r ./requirements.dev.txt (line 5)) (0.8.9)\n",
            "Requirement already satisfied: packaging>=19.0 in /usr/local/lib/python3.7/dist-packages (from dvc[gdrive]~=2.7->-r ./requirements.dev.txt (line 5)) (21.0)\n",
            "Collecting dictdiffer>=0.8.1\n",
            "  Downloading dictdiffer-0.9.0-py2.py3-none-any.whl (16 kB)\n",
            "Collecting pygtrie>=2.3.2\n",
            "  Downloading pygtrie-2.4.2.tar.gz (35 kB)\n",
            "Collecting flufl.lock>=5\n",
            "  Downloading flufl.lock-6.0.tar.gz (30 kB)\n",
            "Requirement already satisfied: pyasn1>=0.4.1 in /usr/local/lib/python3.7/dist-packages (from dvc[gdrive]~=2.7->-r ./requirements.dev.txt (line 5)) (0.4.8)\n",
            "Requirement already satisfied: networkx>=2.5 in /usr/local/lib/python3.7/dist-packages (from dvc[gdrive]~=2.7->-r ./requirements.dev.txt (line 5)) (2.6.3)\n",
            "Collecting distro>=1.3.0\n",
            "  Downloading distro-1.6.0-py2.py3-none-any.whl (19 kB)\n",
            "Requirement already satisfied: appdirs>=1.4.3 in /usr/local/lib/python3.7/dist-packages (from dvc[gdrive]~=2.7->-r ./requirements.dev.txt (line 5)) (1.4.4)\n",
            "Collecting rich>=10.9.0\n",
            "  Downloading rich-10.12.0-py3-none-any.whl (212 kB)\n",
            "\u001b[K     |████████████████████████████████| 212 kB 60.0 MB/s \n",
            "\u001b[?25hRequirement already satisfied: pydot>=1.2.4 in /usr/local/lib/python3.7/dist-packages (from dvc[gdrive]~=2.7->-r ./requirements.dev.txt (line 5)) (1.3.0)\n",
            "Collecting voluptuous>=0.11.7\n",
            "  Downloading voluptuous-0.12.2.tar.gz (48 kB)\n",
            "\u001b[K     |████████████████████████████████| 48 kB 5.0 MB/s \n",
            "\u001b[?25hCollecting zc.lockfile>=1.2.1\n",
            "  Downloading zc.lockfile-2.0-py2.py3-none-any.whl (9.7 kB)\n",
            "Collecting shortuuid>=0.5.0\n",
            "  Downloading shortuuid-1.0.1-py3-none-any.whl (7.5 kB)\n",
            "Collecting pathspec<0.10.0,>=0.9.0\n",
            "  Downloading pathspec-0.9.0-py2.py3-none-any.whl (31 kB)\n",
            "Collecting fsspec[http]>=2021.10.1\n",
            "  Downloading fsspec-2021.10.1-py3-none-any.whl (125 kB)\n",
            "\u001b[K     |████████████████████████████████| 125 kB 54.3 MB/s \n",
            "\u001b[?25hCollecting colorama>=0.3.9\n",
            "  Downloading colorama-0.4.4-py2.py3-none-any.whl (16 kB)\n",
            "Requirement already satisfied: importlib-resources>=5.2.2 in /usr/local/lib/python3.7/dist-packages (from dvc[gdrive]~=2.7->-r ./requirements.dev.txt (line 5)) (5.2.2)\n",
            "Collecting python-benedict>=0.24.2\n",
            "  Downloading python_benedict-0.24.3-py3-none-any.whl (41 kB)\n",
            "\u001b[K     |████████████████████████████████| 41 kB 38 kB/s \n",
            "\u001b[?25hRequirement already satisfied: toml>=0.10.1 in /usr/local/lib/python3.7/dist-packages (from dvc[gdrive]~=2.7->-r ./requirements.dev.txt (line 5)) (0.10.2)\n",
            "Collecting gitpython>3\n",
            "  Downloading GitPython-3.1.24-py3-none-any.whl (180 kB)\n",
            "\u001b[K     |████████████████████████████████| 180 kB 53.1 MB/s \n",
            "\u001b[?25hCollecting dulwich>=0.20.23\n",
            "  Downloading dulwich-0.20.25-cp37-cp37m-manylinux_2_5_x86_64.manylinux1_x86_64.manylinux_2_12_x86_64.manylinux2010_x86_64.whl (530 kB)\n",
            "\u001b[K     |████████████████████████████████| 530 kB 42.5 MB/s \n",
            "\u001b[?25hRequirement already satisfied: requests>=2.22.0 in /usr/local/lib/python3.7/dist-packages (from dvc[gdrive]~=2.7->-r ./requirements.dev.txt (line 5)) (2.23.0)\n",
            "Collecting aiohttp-retry>=2.4.5\n",
            "  Downloading aiohttp_retry-2.4.6-py3-none-any.whl (7.7 kB)\n",
            "Collecting diskcache>=5.2.1\n",
            "  Downloading diskcache-5.2.1-py3-none-any.whl (44 kB)\n",
            "\u001b[K     |████████████████████████████████| 44 kB 2.6 MB/s \n",
            "\u001b[?25hCollecting configobj>=5.0.6\n",
            "  Downloading configobj-5.0.6.tar.gz (33 kB)\n",
            "Collecting flatten-dict<1,>=0.4.1\n",
            "  Downloading flatten_dict-0.4.2-py2.py3-none-any.whl (9.7 kB)\n",
            "Collecting ply>=3.9\n",
            "  Downloading ply-3.11-py2.py3-none-any.whl (49 kB)\n",
            "\u001b[K     |████████████████████████████████| 49 kB 6.0 MB/s \n",
            "\u001b[?25hRequirement already satisfied: importlib-metadata>=1.4 in /usr/local/lib/python3.7/dist-packages (from dvc[gdrive]~=2.7->-r ./requirements.dev.txt (line 5)) (4.8.1)\n",
            "Collecting grandalf==0.6\n",
            "  Downloading grandalf-0.6-py3-none-any.whl (31 kB)\n",
            "Collecting shtab<2,>=1.3.4\n",
            "  Downloading shtab-1.4.2-py2.py3-none-any.whl (13 kB)\n",
            "Requirement already satisfied: pyparsing==2.4.7 in /usr/local/lib/python3.7/dist-packages (from dvc[gdrive]~=2.7->-r ./requirements.dev.txt (line 5)) (2.4.7)\n",
            "Collecting pygit2>=1.5.0\n",
            "  Downloading pygit2-1.7.0-cp37-cp37m-manylinux_2_17_x86_64.manylinux2014_x86_64.whl (4.6 MB)\n",
            "\u001b[K     |████████████████████████████████| 4.6 MB 43.7 MB/s \n",
            "\u001b[?25hCollecting ruamel.yaml>=0.17.11\n",
            "  Downloading ruamel.yaml-0.17.16-py3-none-any.whl (109 kB)\n",
            "\u001b[K     |████████████████████████████████| 109 kB 51.2 MB/s \n",
            "\u001b[?25hCollecting dpath<3,>=2.0.2\n",
            "  Downloading dpath-2.0.5-py3-none-any.whl (15 kB)\n",
            "Collecting funcy>=1.14\n",
            "  Downloading funcy-1.16-py2.py3-none-any.whl (32 kB)\n",
            "Requirement already satisfied: tqdm<5,>=4.45.0 in /usr/local/lib/python3.7/dist-packages (from dvc[gdrive]~=2.7->-r ./requirements.dev.txt (line 5)) (4.62.3)\n",
            "Collecting psutil>=5.8.0\n",
            "  Downloading psutil-5.8.0-cp37-cp37m-manylinux2010_x86_64.whl (296 kB)\n",
            "\u001b[K     |████████████████████████████████| 296 kB 54.0 MB/s \n",
            "\u001b[?25hCollecting nanotime>=0.5.2\n",
            "  Downloading nanotime-0.5.2.tar.gz (3.2 kB)\n",
            "Collecting pydrive2[fsspec]>=1.9.4\n",
            "  Downloading PyDrive2-1.10.0-py3-none-any.whl (39 kB)\n",
            "Requirement already satisfied: future in /usr/local/lib/python3.7/dist-packages (from grandalf==0.6->dvc[gdrive]~=2.7->-r ./requirements.dev.txt (line 5)) (0.16.0)\n",
            "Collecting aiohttp\n",
            "  Downloading aiohttp-3.7.4.post0-cp37-cp37m-manylinux2014_x86_64.whl (1.3 MB)\n",
            "\u001b[K     |████████████████████████████████| 1.3 MB 46.3 MB/s \n",
            "\u001b[?25hRequirement already satisfied: six in /usr/local/lib/python3.7/dist-packages (from configobj>=5.0.6->dvc[gdrive]~=2.7->-r ./requirements.dev.txt (line 5)) (1.15.0)\n",
            "Requirement already satisfied: urllib3>=1.24.1 in /usr/local/lib/python3.7/dist-packages (from dulwich>=0.20.23->dvc[gdrive]~=2.7->-r ./requirements.dev.txt (line 5)) (1.24.3)\n",
            "Requirement already satisfied: certifi in /usr/local/lib/python3.7/dist-packages (from dulwich>=0.20.23->dvc[gdrive]~=2.7->-r ./requirements.dev.txt (line 5)) (2021.5.30)\n",
            "Collecting atpublic\n",
            "  Downloading atpublic-2.3.tar.gz (16 kB)\n",
            "Collecting gitdb<5,>=4.0.1\n",
            "  Downloading gitdb-4.0.9-py3-none-any.whl (63 kB)\n",
            "\u001b[K     |████████████████████████████████| 63 kB 1.6 MB/s \n",
            "\u001b[?25hCollecting smmap<6,>=3.0.1\n",
            "  Downloading smmap-5.0.0-py3-none-any.whl (24 kB)\n",
            "Requirement already satisfied: zipp>=0.5 in /usr/local/lib/python3.7/dist-packages (from importlib-metadata>=1.4->dvc[gdrive]~=2.7->-r ./requirements.dev.txt (line 5)) (3.6.0)\n",
            "Requirement already satisfied: google-api-python-client>=1.12.5 in /usr/local/lib/python3.7/dist-packages (from pydrive2[fsspec]>=1.9.4->dvc[gdrive]~=2.7->-r ./requirements.dev.txt (line 5)) (1.12.8)\n",
            "Requirement already satisfied: PyYAML>=3.0 in /usr/local/lib/python3.7/dist-packages (from pydrive2[fsspec]>=1.9.4->dvc[gdrive]~=2.7->-r ./requirements.dev.txt (line 5)) (3.13)\n",
            "Collecting pyOpenSSL>=19.1.0\n",
            "  Downloading pyOpenSSL-21.0.0-py2.py3-none-any.whl (55 kB)\n",
            "\u001b[K     |████████████████████████████████| 55 kB 3.0 MB/s \n",
            "\u001b[?25hRequirement already satisfied: oauth2client>=4.0.0 in /usr/local/lib/python3.7/dist-packages (from pydrive2[fsspec]>=1.9.4->dvc[gdrive]~=2.7->-r ./requirements.dev.txt (line 5)) (4.1.3)\n",
            "Requirement already satisfied: google-auth-httplib2>=0.0.3 in /usr/local/lib/python3.7/dist-packages (from google-api-python-client>=1.12.5->pydrive2[fsspec]>=1.9.4->dvc[gdrive]~=2.7->-r ./requirements.dev.txt (line 5)) (0.0.4)\n",
            "Requirement already satisfied: google-api-core<2dev,>=1.21.0 in /usr/local/lib/python3.7/dist-packages (from google-api-python-client>=1.12.5->pydrive2[fsspec]>=1.9.4->dvc[gdrive]~=2.7->-r ./requirements.dev.txt (line 5)) (1.26.3)\n",
            "Requirement already satisfied: google-auth>=1.16.0 in /usr/local/lib/python3.7/dist-packages (from google-api-python-client>=1.12.5->pydrive2[fsspec]>=1.9.4->dvc[gdrive]~=2.7->-r ./requirements.dev.txt (line 5)) (1.35.0)\n",
            "Requirement already satisfied: uritemplate<4dev,>=3.0.0 in /usr/local/lib/python3.7/dist-packages (from google-api-python-client>=1.12.5->pydrive2[fsspec]>=1.9.4->dvc[gdrive]~=2.7->-r ./requirements.dev.txt (line 5)) (3.0.1)\n",
            "Requirement already satisfied: httplib2<1dev,>=0.15.0 in /usr/local/lib/python3.7/dist-packages (from google-api-python-client>=1.12.5->pydrive2[fsspec]>=1.9.4->dvc[gdrive]~=2.7->-r ./requirements.dev.txt (line 5)) (0.17.4)\n",
            "Requirement already satisfied: pytz in /usr/local/lib/python3.7/dist-packages (from google-api-core<2dev,>=1.21.0->google-api-python-client>=1.12.5->pydrive2[fsspec]>=1.9.4->dvc[gdrive]~=2.7->-r ./requirements.dev.txt (line 5)) (2018.9)\n",
            "Requirement already satisfied: setuptools>=40.3.0 in /usr/local/lib/python3.7/dist-packages (from google-api-core<2dev,>=1.21.0->google-api-python-client>=1.12.5->pydrive2[fsspec]>=1.9.4->dvc[gdrive]~=2.7->-r ./requirements.dev.txt (line 5)) (57.4.0)\n",
            "Requirement already satisfied: protobuf>=3.12.0 in /usr/local/lib/python3.7/dist-packages (from google-api-core<2dev,>=1.21.0->google-api-python-client>=1.12.5->pydrive2[fsspec]>=1.9.4->dvc[gdrive]~=2.7->-r ./requirements.dev.txt (line 5)) (3.17.3)\n",
            "Requirement already satisfied: googleapis-common-protos<2.0dev,>=1.6.0 in /usr/local/lib/python3.7/dist-packages (from google-api-core<2dev,>=1.21.0->google-api-python-client>=1.12.5->pydrive2[fsspec]>=1.9.4->dvc[gdrive]~=2.7->-r ./requirements.dev.txt (line 5)) (1.53.0)\n",
            "Requirement already satisfied: cachetools<5.0,>=2.0.0 in /usr/local/lib/python3.7/dist-packages (from google-auth>=1.16.0->google-api-python-client>=1.12.5->pydrive2[fsspec]>=1.9.4->dvc[gdrive]~=2.7->-r ./requirements.dev.txt (line 5)) (4.2.4)\n",
            "Requirement already satisfied: rsa<5,>=3.1.4 in /usr/local/lib/python3.7/dist-packages (from google-auth>=1.16.0->google-api-python-client>=1.12.5->pydrive2[fsspec]>=1.9.4->dvc[gdrive]~=2.7->-r ./requirements.dev.txt (line 5)) (4.7.2)\n",
            "Requirement already satisfied: pyasn1-modules>=0.2.1 in /usr/local/lib/python3.7/dist-packages (from google-auth>=1.16.0->google-api-python-client>=1.12.5->pydrive2[fsspec]>=1.9.4->dvc[gdrive]~=2.7->-r ./requirements.dev.txt (line 5)) (0.2.8)\n",
            "Requirement already satisfied: cffi>=1.4.0 in /usr/local/lib/python3.7/dist-packages (from pygit2>=1.5.0->dvc[gdrive]~=2.7->-r ./requirements.dev.txt (line 5)) (1.14.6)\n",
            "Requirement already satisfied: cached-property in /usr/local/lib/python3.7/dist-packages (from pygit2>=1.5.0->dvc[gdrive]~=2.7->-r ./requirements.dev.txt (line 5)) (1.5.2)\n",
            "Requirement already satisfied: pycparser in /usr/local/lib/python3.7/dist-packages (from cffi>=1.4.0->pygit2>=1.5.0->dvc[gdrive]~=2.7->-r ./requirements.dev.txt (line 5)) (2.20)\n",
            "Collecting cryptography>=3.3\n",
            "  Downloading cryptography-35.0.0-cp36-abi3-manylinux_2_24_x86_64.whl (3.5 MB)\n",
            "\u001b[K     |████████████████████████████████| 3.5 MB 39.7 MB/s \n",
            "\u001b[?25hCollecting phonenumbers\n",
            "  Downloading phonenumbers-8.12.35-py2.py3-none-any.whl (2.6 MB)\n",
            "\u001b[K     |████████████████████████████████| 2.6 MB 62.7 MB/s \n",
            "\u001b[?25hCollecting xmltodict\n",
            "  Downloading xmltodict-0.12.0-py2.py3-none-any.whl (9.2 kB)\n",
            "Collecting mailchecker\n",
            "  Downloading mailchecker-4.0.13.tar.gz (201 kB)\n",
            "\u001b[K     |████████████████████████████████| 201 kB 52.3 MB/s \n",
            "\u001b[?25hRequirement already satisfied: python-slugify in /usr/local/lib/python3.7/dist-packages (from python-benedict>=0.24.2->dvc[gdrive]~=2.7->-r ./requirements.dev.txt (line 5)) (5.0.2)\n",
            "Collecting ftfy\n",
            "  Downloading ftfy-6.0.3.tar.gz (64 kB)\n",
            "\u001b[K     |████████████████████████████████| 64 kB 2.8 MB/s \n",
            "\u001b[?25hRequirement already satisfied: python-dateutil in /usr/local/lib/python3.7/dist-packages (from python-benedict>=0.24.2->dvc[gdrive]~=2.7->-r ./requirements.dev.txt (line 5)) (2.8.2)\n",
            "Collecting python-fsutil\n",
            "  Downloading python_fsutil-0.5.0-py3-none-any.whl (11 kB)\n",
            "Requirement already satisfied: chardet<4,>=3.0.2 in /usr/local/lib/python3.7/dist-packages (from requests>=2.22.0->dvc[gdrive]~=2.7->-r ./requirements.dev.txt (line 5)) (3.0.4)\n",
            "Requirement already satisfied: idna<3,>=2.5 in /usr/local/lib/python3.7/dist-packages (from requests>=2.22.0->dvc[gdrive]~=2.7->-r ./requirements.dev.txt (line 5)) (2.10)\n",
            "Collecting commonmark<0.10.0,>=0.9.0\n",
            "  Downloading commonmark-0.9.1-py2.py3-none-any.whl (51 kB)\n",
            "\u001b[K     |████████████████████████████████| 51 kB 6.6 MB/s \n",
            "\u001b[?25hRequirement already satisfied: pygments<3.0.0,>=2.6.0 in /usr/local/lib/python3.7/dist-packages (from rich>=10.9.0->dvc[gdrive]~=2.7->-r ./requirements.dev.txt (line 5)) (2.6.1)\n",
            "Collecting ruamel.yaml.clib>=0.1.2\n",
            "  Downloading ruamel.yaml.clib-0.2.6-cp37-cp37m-manylinux1_x86_64.whl (546 kB)\n",
            "\u001b[K     |████████████████████████████████| 546 kB 51.1 MB/s \n",
            "\u001b[?25hCollecting pycodestyle>=2.8.0\n",
            "  Downloading pycodestyle-2.8.0-py2.py3-none-any.whl (42 kB)\n",
            "\u001b[K     |████████████████████████████████| 42 kB 890 kB/s \n",
            "\u001b[?25hCollecting typing-extensions\n",
            "  Downloading typing_extensions-3.10.0.2-py3-none-any.whl (26 kB)\n",
            "Collecting astroid<2.9,>=2.8.0\n",
            "  Downloading astroid-2.8.3-py3-none-any.whl (246 kB)\n",
            "\u001b[K     |████████████████████████████████| 246 kB 62.7 MB/s \n",
            "\u001b[?25hCollecting platformdirs>=2.2.0\n",
            "  Downloading platformdirs-2.4.0-py3-none-any.whl (14 kB)\n",
            "Collecting isort<6,>=4.2.5\n",
            "  Downloading isort-5.9.3-py3-none-any.whl (106 kB)\n",
            "\u001b[K     |████████████████████████████████| 106 kB 46.9 MB/s \n",
            "\u001b[?25hCollecting mccabe<0.7,>=0.6\n",
            "  Downloading mccabe-0.6.1-py2.py3-none-any.whl (8.6 kB)\n",
            "Requirement already satisfied: wrapt<1.14,>=1.11 in /usr/local/lib/python3.7/dist-packages (from astroid<2.9,>=2.8.0->pylint->-r ./requirements.dev.txt (line 2)) (1.12.1)\n",
            "Collecting typed-ast<1.5,>=1.4.0\n",
            "  Downloading typed_ast-1.4.3-cp37-cp37m-manylinux1_x86_64.whl (743 kB)\n",
            "\u001b[K     |████████████████████████████████| 743 kB 44.6 MB/s \n",
            "\u001b[?25hCollecting lazy-object-proxy>=1.4.0\n",
            "  Downloading lazy_object_proxy-1.6.0-cp37-cp37m-manylinux1_x86_64.whl (55 kB)\n",
            "\u001b[K     |████████████████████████████████| 55 kB 3.7 MB/s \n",
            "\u001b[?25hRequirement already satisfied: pluggy<0.8,>=0.5 in /usr/local/lib/python3.7/dist-packages (from pytest->-r ./requirements.dev.txt (line 3)) (0.7.1)\n",
            "Requirement already satisfied: atomicwrites>=1.0 in /usr/local/lib/python3.7/dist-packages (from pytest->-r ./requirements.dev.txt (line 3)) (1.4.0)\n",
            "Requirement already satisfied: attrs>=17.4.0 in /usr/local/lib/python3.7/dist-packages (from pytest->-r ./requirements.dev.txt (line 3)) (21.2.0)\n",
            "Requirement already satisfied: more-itertools>=4.0.0 in /usr/local/lib/python3.7/dist-packages (from pytest->-r ./requirements.dev.txt (line 3)) (8.10.0)\n",
            "Requirement already satisfied: py>=1.5.0 in /usr/local/lib/python3.7/dist-packages (from pytest->-r ./requirements.dev.txt (line 3)) (1.10.0)\n",
            "Collecting pytest\n",
            "  Downloading pytest-6.2.5-py3-none-any.whl (280 kB)\n",
            "\u001b[K     |████████████████████████████████| 280 kB 60.9 MB/s \n",
            "\u001b[?25hCollecting coverage[toml]>=5.2.1\n",
            "  Downloading coverage-6.0.2-cp37-cp37m-manylinux_2_5_x86_64.manylinux1_x86_64.manylinux_2_12_x86_64.manylinux2010_x86_64.whl (253 kB)\n",
            "\u001b[K     |████████████████████████████████| 253 kB 37.6 MB/s \n",
            "\u001b[?25hRequirement already satisfied: iniconfig in /usr/local/lib/python3.7/dist-packages (from pytest->-r ./requirements.dev.txt (line 3)) (1.1.1)\n",
            "Collecting pytest\n",
            "  Downloading pytest-6.2.4-py3-none-any.whl (280 kB)\n",
            "\u001b[K     |████████████████████████████████| 280 kB 64.9 MB/s \n",
            "\u001b[?25h  Downloading pytest-6.2.3-py3-none-any.whl (280 kB)\n",
            "\u001b[K     |████████████████████████████████| 280 kB 57.6 MB/s \n",
            "\u001b[?25h  Downloading pytest-6.2.2-py3-none-any.whl (280 kB)\n",
            "\u001b[K     |████████████████████████████████| 280 kB 48.4 MB/s \n",
            "\u001b[?25h  Downloading pytest-6.2.1-py3-none-any.whl (279 kB)\n",
            "\u001b[K     |████████████████████████████████| 279 kB 42.4 MB/s \n",
            "\u001b[?25h  Downloading pytest-6.2.0-py3-none-any.whl (279 kB)\n",
            "\u001b[K     |████████████████████████████████| 279 kB 54.6 MB/s \n",
            "\u001b[?25h  Downloading pytest-6.1.2-py3-none-any.whl (272 kB)\n",
            "\u001b[K     |████████████████████████████████| 272 kB 49.4 MB/s \n",
            "\u001b[?25h  Downloading pytest-6.1.1-py3-none-any.whl (272 kB)\n",
            "\u001b[K     |████████████████████████████████| 272 kB 41.7 MB/s \n",
            "\u001b[?25h  Downloading pytest-6.1.0-py3-none-any.whl (272 kB)\n",
            "\u001b[K     |████████████████████████████████| 272 kB 50.9 MB/s \n",
            "\u001b[?25h  Downloading pytest-6.0.2-py3-none-any.whl (270 kB)\n",
            "\u001b[K     |████████████████████████████████| 270 kB 47.0 MB/s \n",
            "\u001b[?25h  Downloading pytest-6.0.1-py3-none-any.whl (270 kB)\n",
            "\u001b[K     |████████████████████████████████| 270 kB 62.6 MB/s \n",
            "\u001b[?25h  Downloading pytest-6.0.0-py3-none-any.whl (270 kB)\n",
            "\u001b[K     |████████████████████████████████| 270 kB 66.2 MB/s \n",
            "\u001b[?25h  Downloading pytest-5.4.3-py3-none-any.whl (248 kB)\n",
            "\u001b[K     |████████████████████████████████| 248 kB 62.8 MB/s \n",
            "\u001b[?25hRequirement already satisfied: wcwidth in /usr/local/lib/python3.7/dist-packages (from pytest->-r ./requirements.dev.txt (line 3)) (0.2.5)\n",
            "  Downloading pytest-5.4.2-py3-none-any.whl (247 kB)\n",
            "\u001b[K     |████████████████████████████████| 247 kB 62.4 MB/s \n",
            "\u001b[?25h  Downloading pytest-5.4.1-py3-none-any.whl (246 kB)\n",
            "\u001b[K     |████████████████████████████████| 246 kB 52.8 MB/s \n",
            "\u001b[?25h  Downloading pytest-5.4.0-py3-none-any.whl (247 kB)\n",
            "\u001b[K     |████████████████████████████████| 247 kB 52.5 MB/s \n",
            "\u001b[?25h  Downloading pytest-5.3.5-py3-none-any.whl (235 kB)\n",
            "\u001b[K     |████████████████████████████████| 235 kB 49.7 MB/s \n",
            "\u001b[?25h  Downloading pytest-5.3.4-py3-none-any.whl (235 kB)\n",
            "\u001b[K     |████████████████████████████████| 235 kB 45.6 MB/s \n",
            "\u001b[?25h  Downloading pytest-5.3.3-py3-none-any.whl (235 kB)\n",
            "\u001b[K     |████████████████████████████████| 235 kB 52.4 MB/s \n",
            "\u001b[?25h  Downloading pytest-5.3.2-py3-none-any.whl (234 kB)\n",
            "\u001b[K     |████████████████████████████████| 234 kB 64.1 MB/s \n",
            "\u001b[?25h  Downloading pytest-5.3.1-py3-none-any.whl (233 kB)\n",
            "\u001b[K     |████████████████████████████████| 233 kB 44.9 MB/s \n",
            "\u001b[?25h  Downloading pytest-5.3.0-py3-none-any.whl (233 kB)\n",
            "\u001b[K     |████████████████████████████████| 233 kB 50.1 MB/s \n",
            "\u001b[?25h  Downloading pytest-5.2.4-py3-none-any.whl (227 kB)\n",
            "\u001b[K     |████████████████████████████████| 227 kB 50.7 MB/s \n",
            "\u001b[?25h  Downloading pytest-5.2.3-py3-none-any.whl (227 kB)\n",
            "\u001b[K     |████████████████████████████████| 227 kB 50.7 MB/s \n",
            "\u001b[?25h  Downloading pytest-5.2.2-py3-none-any.whl (227 kB)\n",
            "\u001b[K     |████████████████████████████████| 227 kB 48.6 MB/s \n",
            "\u001b[?25h  Downloading pytest-5.2.1-py3-none-any.whl (226 kB)\n",
            "\u001b[K     |████████████████████████████████| 226 kB 45.8 MB/s \n",
            "\u001b[?25h  Downloading pytest-5.2.0-py3-none-any.whl (226 kB)\n",
            "\u001b[K     |████████████████████████████████| 226 kB 46.9 MB/s \n",
            "\u001b[?25h  Downloading pytest-5.1.3-py3-none-any.whl (224 kB)\n",
            "\u001b[K     |████████████████████████████████| 224 kB 62.7 MB/s \n",
            "\u001b[?25h  Downloading pytest-5.1.2-py3-none-any.whl (224 kB)\n",
            "\u001b[K     |████████████████████████████████| 224 kB 38.2 MB/s \n",
            "\u001b[?25h  Downloading pytest-5.1.1-py3-none-any.whl (223 kB)\n",
            "\u001b[K     |████████████████████████████████| 223 kB 24.7 MB/s \n",
            "\u001b[?25h  Downloading pytest-5.1.0-py3-none-any.whl (223 kB)\n",
            "\u001b[K     |████████████████████████████████| 223 kB 58.8 MB/s \n",
            "\u001b[?25h  Downloading pytest-5.0.1-py3-none-any.whl (221 kB)\n",
            "\u001b[K     |████████████████████████████████| 221 kB 62.2 MB/s \n",
            "\u001b[?25h  Downloading pytest-5.0.0-py3-none-any.whl (221 kB)\n",
            "\u001b[K     |████████████████████████████████| 221 kB 50.4 MB/s \n",
            "\u001b[?25h  Downloading pytest-4.6.11-py2.py3-none-any.whl (231 kB)\n",
            "\u001b[K     |████████████████████████████████| 231 kB 60.3 MB/s \n",
            "\u001b[?25h  Downloading pytest-4.6.10-py2.py3-none-any.whl (231 kB)\n",
            "\u001b[K     |████████████████████████████████| 231 kB 61.0 MB/s \n",
            "\u001b[?25h  Downloading pytest-4.6.9-py2.py3-none-any.whl (231 kB)\n",
            "\u001b[K     |████████████████████████████████| 231 kB 59.7 MB/s \n",
            "\u001b[?25h  Downloading pytest-4.6.8-py2.py3-none-any.whl (230 kB)\n",
            "\u001b[K     |████████████████████████████████| 230 kB 60.2 MB/s \n",
            "\u001b[?25h  Downloading pytest-4.6.7-py2.py3-none-any.whl (230 kB)\n",
            "\u001b[K     |████████████████████████████████| 230 kB 37.1 MB/s \n",
            "\u001b[?25h  Downloading pytest-4.6.6-py2.py3-none-any.whl (230 kB)\n",
            "\u001b[K     |████████████████████████████████| 230 kB 50.2 MB/s \n",
            "\u001b[?25h  Downloading pytest-4.6.5-py2.py3-none-any.whl (230 kB)\n",
            "\u001b[K     |████████████████████████████████| 230 kB 57.2 MB/s \n",
            "\u001b[?25h  Downloading pytest-4.6.4-py2.py3-none-any.whl (229 kB)\n",
            "\u001b[K     |████████████████████████████████| 229 kB 52.4 MB/s \n",
            "\u001b[?25h  Downloading pytest-4.6.3-py2.py3-none-any.whl (229 kB)\n",
            "\u001b[K     |████████████████████████████████| 229 kB 56.3 MB/s \n",
            "\u001b[?25h  Downloading pytest-4.6.2-py2.py3-none-any.whl (229 kB)\n",
            "\u001b[K     |████████████████████████████████| 229 kB 52.3 MB/s \n",
            "\u001b[?25h  Downloading pytest-4.6.1-py2.py3-none-any.whl (229 kB)\n",
            "\u001b[K     |████████████████████████████████| 229 kB 51.4 MB/s \n",
            "\u001b[?25h  Downloading pytest-4.6.0-py2.py3-none-any.whl (229 kB)\n",
            "\u001b[K     |████████████████████████████████| 229 kB 52.6 MB/s \n",
            "\u001b[?25hINFO: pip is looking at multiple versions of pytest-cov to determine which version is compatible with other requirements. This could take a while.\n",
            "Collecting pytest-cov\n",
            "  Downloading pytest_cov-2.12.1-py2.py3-none-any.whl (20 kB)\n",
            "  Downloading pytest_cov-2.12.0-py2.py3-none-any.whl (20 kB)\n",
            "  Downloading pytest_cov-2.11.1-py2.py3-none-any.whl (20 kB)\n",
            "  Downloading pytest_cov-2.11.0-py2.py3-none-any.whl (20 kB)\n",
            "  Downloading pytest_cov-2.10.1-py2.py3-none-any.whl (19 kB)\n",
            "  Downloading pytest_cov-2.10.0-py2.py3-none-any.whl (19 kB)\n",
            "  Downloading pytest_cov-2.9.0-py2.py3-none-any.whl (19 kB)\n",
            "Collecting yarl<2.0,>=1.0\n",
            "  Downloading yarl-1.7.0-cp37-cp37m-manylinux_2_5_x86_64.manylinux1_x86_64.manylinux_2_12_x86_64.manylinux2010_x86_64.whl (271 kB)\n",
            "\u001b[K     |████████████████████████████████| 271 kB 53.3 MB/s \n",
            "\u001b[?25hCollecting multidict<7.0,>=4.5\n",
            "  Downloading multidict-5.2.0-cp37-cp37m-manylinux_2_5_x86_64.manylinux1_x86_64.manylinux_2_12_x86_64.manylinux2010_x86_64.whl (160 kB)\n",
            "\u001b[K     |████████████████████████████████| 160 kB 49.8 MB/s \n",
            "\u001b[?25hCollecting async-timeout<4.0,>=3.0\n",
            "  Downloading async_timeout-3.0.1-py3-none-any.whl (8.2 kB)\n",
            "Requirement already satisfied: text-unidecode>=1.3 in /usr/local/lib/python3.7/dist-packages (from python-slugify->python-benedict>=0.24.2->dvc[gdrive]~=2.7->-r ./requirements.dev.txt (line 5)) (1.3)\n",
            "Building wheels for collected packages: configobj, flufl.lock, nanotime, pygtrie, voluptuous, atpublic, ftfy, mailchecker\n",
            "  Building wheel for configobj (setup.py) ... \u001b[?25l\u001b[?25hdone\n",
            "  Created wheel for configobj: filename=configobj-5.0.6-py3-none-any.whl size=34546 sha256=4944fc9ae7cc9731280dfe62f5b7c002c4a763b888673fa5f0122729f19365ae\n",
            "  Stored in directory: /root/.cache/pip/wheels/0d/c4/19/13d74440f2a571841db6b6e0a273694327498884dafb9cf978\n",
            "  Building wheel for flufl.lock (setup.py) ... \u001b[?25l\u001b[?25hdone\n",
            "  Created wheel for flufl.lock: filename=flufl.lock-6.0-py3-none-any.whl size=11995 sha256=2895caf556d388570379a2a84feacbb5585d28f3fd05b62e0594ee68291d89cc\n",
            "  Stored in directory: /root/.cache/pip/wheels/d0/00/5c/f761a3cd38e03e313676e8c6bff1743d3dc280d58ab3f16ecd\n",
            "  Building wheel for nanotime (setup.py) ... \u001b[?25l\u001b[?25hdone\n",
            "  Created wheel for nanotime: filename=nanotime-0.5.2-py3-none-any.whl size=2440 sha256=0712b3448408bb675923ab5e5a7cae2741afe640602785f720444d9ced7bc457\n",
            "  Stored in directory: /root/.cache/pip/wheels/b8/92/aa/456d462c908b4e210c3928f778d28f94049fc9e47af8b191c9\n",
            "  Building wheel for pygtrie (setup.py) ... \u001b[?25l\u001b[?25hdone\n",
            "  Created wheel for pygtrie: filename=pygtrie-2.4.2-py3-none-any.whl size=19062 sha256=1d559c8b5b175a4040da684e035adc043ed056a77941729b1d8f366dcf0b3626\n",
            "  Stored in directory: /root/.cache/pip/wheels/d3/f8/ba/1d828b1603ea422686eb694253a43cb3a5901ea4696c1e0603\n",
            "  Building wheel for voluptuous (setup.py) ... \u001b[?25l\u001b[?25hdone\n",
            "  Created wheel for voluptuous: filename=voluptuous-0.12.2-py3-none-any.whl size=29562 sha256=a66ac7034865477a1ffca5640b1a84623540a7b29ec21d0b77eb702197021ee4\n",
            "  Stored in directory: /root/.cache/pip/wheels/ce/40/e9/5aba7699054584e118b04cc18d4d8f1f15f27af4a0d65ef4b4\n",
            "  Building wheel for atpublic (setup.py) ... \u001b[?25l\u001b[?25hdone\n",
            "  Created wheel for atpublic: filename=atpublic-2.3-py3-none-any.whl size=5033 sha256=b9cd32dd238416306e7b6d19df693170665b034434e4966ccce9164ac6c0dab2\n",
            "  Stored in directory: /root/.cache/pip/wheels/46/d9/0f/54be2ecb4bcb1612f987f0b6482d88fa7f3e43d3946f36a32a\n",
            "  Building wheel for ftfy (setup.py) ... \u001b[?25l\u001b[?25hdone\n",
            "  Created wheel for ftfy: filename=ftfy-6.0.3-py3-none-any.whl size=41933 sha256=7a13f1cf061d8e0568aa8a84048e5deac317fe8eaae12278cf39e56c790f130f\n",
            "  Stored in directory: /root/.cache/pip/wheels/19/f5/38/273eb3b5e76dfd850619312f693716ac4518b498f5ffb6f56d\n",
            "  Building wheel for mailchecker (setup.py) ... \u001b[?25l\u001b[?25hdone\n",
            "  Created wheel for mailchecker: filename=mailchecker-4.0.13-py3-none-any.whl size=201717 sha256=150fd7138a0d97e8090248a190aa1a54a56db8fc7826257f7fb86c9b17173084\n",
            "  Stored in directory: /root/.cache/pip/wheels/14/15/f6/33f8239094610c7f6ed1c65ed34b770bc6cbe80f2778beed71\n",
            "Successfully built configobj flufl.lock nanotime pygtrie voluptuous atpublic ftfy mailchecker\n",
            "Installing collected packages: typing-extensions, multidict, yarl, smmap, cryptography, async-timeout, xmltodict, ruamel.yaml.clib, python-fsutil, pyOpenSSL, psutil, phonenumbers, mailchecker, gitdb, ftfy, fsspec, commonmark, colorama, atpublic, aiohttp, zc.lockfile, voluptuous, typed-ast, shtab, shortuuid, ruamel.yaml, rich, python-benedict, pygtrie, pygit2, pydrive2, ply, pathspec, nanotime, lazy-object-proxy, grandalf, gitpython, funcy, flufl.lock, flatten-dict, dulwich, dpath, distro, diskcache, dictdiffer, configobj, aiohttp-retry, torch, pycodestyle, platformdirs, mccabe, isort, dvc, coverage, astroid, torchvision, pytest-cov, pylint, autopep8\n",
            "  Attempting uninstall: typing-extensions\n",
            "    Found existing installation: typing-extensions 3.7.4.3\n",
            "    Uninstalling typing-extensions-3.7.4.3:\n",
            "      Successfully uninstalled typing-extensions-3.7.4.3\n",
            "  Attempting uninstall: psutil\n",
            "    Found existing installation: psutil 5.4.8\n",
            "    Uninstalling psutil-5.4.8:\n",
            "      Successfully uninstalled psutil-5.4.8\n",
            "  Attempting uninstall: torch\n",
            "    Found existing installation: torch 1.9.0+cu111\n",
            "    Uninstalling torch-1.9.0+cu111:\n",
            "      Successfully uninstalled torch-1.9.0+cu111\n",
            "  Attempting uninstall: coverage\n",
            "    Found existing installation: coverage 3.7.1\n",
            "    Uninstalling coverage-3.7.1:\n",
            "      Successfully uninstalled coverage-3.7.1\n",
            "  Attempting uninstall: torchvision\n",
            "    Found existing installation: torchvision 0.10.0+cu111\n",
            "    Uninstalling torchvision-0.10.0+cu111:\n",
            "      Successfully uninstalled torchvision-0.10.0+cu111\n",
            "\u001b[31mERROR: pip's dependency resolver does not currently take into account all the packages that are installed. This behaviour is the source of the following dependency conflicts.\n",
            "torchtext 0.10.0 requires torch==1.9.0, but you have torch 1.9.1+cpu which is incompatible.\n",
            "tensorflow 2.6.0 requires typing-extensions~=3.7.4, but you have typing-extensions 3.10.0.2 which is incompatible.\n",
            "datascience 0.10.6 requires coverage==3.7.1, but you have coverage 6.0.2 which is incompatible.\n",
            "datascience 0.10.6 requires folium==0.2.1, but you have folium 0.8.3 which is incompatible.\n",
            "coveralls 0.5 requires coverage<3.999,>=3.6, but you have coverage 6.0.2 which is incompatible.\u001b[0m\n",
            "Successfully installed aiohttp-3.7.4.post0 aiohttp-retry-2.4.6 astroid-2.8.3 async-timeout-3.0.1 atpublic-2.3 autopep8-1.6.0 colorama-0.4.4 commonmark-0.9.1 configobj-5.0.6 coverage-6.0.2 cryptography-35.0.0 dictdiffer-0.9.0 diskcache-5.2.1 distro-1.6.0 dpath-2.0.5 dulwich-0.20.25 dvc-2.8.2 flatten-dict-0.4.2 flufl.lock-6.0 fsspec-2021.10.1 ftfy-6.0.3 funcy-1.16 gitdb-4.0.9 gitpython-3.1.24 grandalf-0.6 isort-5.9.3 lazy-object-proxy-1.6.0 mailchecker-4.0.13 mccabe-0.6.1 multidict-5.2.0 nanotime-0.5.2 pathspec-0.9.0 phonenumbers-8.12.35 platformdirs-2.4.0 ply-3.11 psutil-5.8.0 pyOpenSSL-21.0.0 pycodestyle-2.8.0 pydrive2-1.10.0 pygit2-1.7.0 pygtrie-2.4.2 pylint-2.11.1 pytest-cov-2.9.0 python-benedict-0.24.3 python-fsutil-0.5.0 rich-10.12.0 ruamel.yaml-0.17.16 ruamel.yaml.clib-0.2.6 shortuuid-1.0.1 shtab-1.4.2 smmap-5.0.0 torch-1.9.1+cpu torchvision-0.10.1+cpu typed-ast-1.4.3 typing-extensions-3.10.0.2 voluptuous-0.12.2 xmltodict-0.12.0 yarl-1.7.0 zc.lockfile-2.0\n"
          ]
        },
        {
          "output_type": "display_data",
          "data": {
            "application/vnd.colab-display-data+json": {
              "pip_warning": {
                "packages": [
                  "psutil",
                  "torch",
                  "torchvision",
                  "typing_extensions"
                ]
              }
            }
          },
          "metadata": {}
        }
      ]
    },
    {
      "cell_type": "code",
      "metadata": {
        "colab": {
          "base_uri": "https://localhost:8080/"
        },
        "id": "KMhc2QCiurlU",
        "outputId": "ad2f3ed0-35bc-41bc-907c-dcaa512aec91"
      },
      "source": [
        "!ls /content/\n"
      ],
      "execution_count": 7,
      "outputs": [
        {
          "output_type": "stream",
          "name": "stdout",
          "text": [
            "drive  image-cls  sample_data\n"
          ]
        }
      ]
    },
    {
      "cell_type": "code",
      "metadata": {
        "colab": {
          "base_uri": "https://localhost:8080/"
        },
        "id": "sK_HL16luuOE",
        "outputId": "6b13076f-b0f6-4972-e950-8cc0b527cdcd"
      },
      "source": [
        "%cd /content/image-cls\n",
        "%%writefile ./.dvc/config.local\n",
        "\n",
        "['remote \"storage\"']\n",
        "    gdrive_service_account_json_file_path = /content/drive/file_name.json"
      ],
      "execution_count": 4,
      "outputs": [
        {
          "output_type": "stream",
          "name": "stdout",
          "text": [
            "Writing ./.dvc/config.local\n"
          ]
        }
      ]
    },
    {
      "cell_type": "code",
      "metadata": {
        "colab": {
          "base_uri": "https://localhost:8080/"
        },
        "id": "w-tT0SlOu1Yh",
        "outputId": "4cde5c9e-e5a2-45db-df29-75eb64e02338"
      },
      "source": [
        "!dvc pull"
      ],
      "execution_count": 5,
      "outputs": [
        {
          "output_type": "stream",
          "name": "stdout",
          "text": [
            "Transferring:   0% 0/1 [00:00<?, ?file/s{'info': ''}]\n",
            "!\u001b[A\n",
            "  0%|          |296809bf91fe1dc233eee9e1f038f6     0.00/? [00:00<?,        ?B/s]\u001b[A\n",
            "296809bf91fe1dc233eee9e1f038f6:   0% 0.00/1.15G [00:00<?, ?B/s{'info': ''}]     \u001b[A\n",
            "  8% 100M/1.15G [00:01<00:19, 57.5MB/s{'info': ''}]                        \u001b[A\n",
            " 17% 200M/1.15G [00:04<00:20, 49.8MB/s{'info': ''}]\u001b[A\n",
            " 25% 300M/1.15G [00:05<00:15, 58.9MB/s{'info': ''}]\u001b[A\n",
            " 34% 400M/1.15G [00:06<00:11, 69.9MB/s{'info': ''}]\u001b[A\n",
            " 42% 500M/1.15G [00:07<00:09, 76.4MB/s{'info': ''}]\u001b[A\n",
            " 51% 600M/1.15G [00:09<00:08, 75.0MB/s{'info': ''}]\u001b[A\n",
            " 59% 700M/1.15G [00:10<00:07, 68.7MB/s{'info': ''}]\u001b[A\n",
            " 68% 800M/1.15G [00:12<00:05, 73.7MB/s{'info': ''}]\u001b[A\n",
            " 76% 900M/1.15G [00:13<00:03, 77.9MB/s{'info': ''}]\u001b[A\n",
            " 85% 0.98G/1.15G [00:15<00:02, 68.1MB/s{'info': ''}]\u001b[A\n",
            " 93% 1.07G/1.15G [00:16<00:01, 74.8MB/s{'info': ''}]\u001b[A\n",
            "100% 1.15G/1.15G [00:17<00:00, 80.7MB/s{'info': ''}]\u001b[A\n",
            "Computing md5 for a large file '/content/image-cls/.dvc/cache/cf/296809bf91fe1dc233eee9e1f038f6'. This is only done once.\n",
            "Transferring:   0% 0/1 [00:17<?, ?file/s{'info': ''}]\n",
            "  0% 0.00/1.15G [00:00<?, ?B/s]\u001b[A\n",
            "  0% 0.00/1.15G [00:00<?, ?B/s{'info': ''}]\u001b[A\n",
            "  2% 25.0M/1.15G [00:00<00:04, 258MB/s{'info': ''}]\u001b[A\n",
            "  5% 54.0M/1.15G [00:00<00:04, 283MB/s{'info': ''}]\u001b[A\n",
            "  7% 88.0M/1.15G [00:00<00:03, 314MB/s{'info': ''}]\u001b[A\n",
            " 10% 120M/1.15G [00:00<00:03, 321MB/s{'info': ''}] \u001b[A\n",
            " 13% 151M/1.15G [00:00<00:03, 318MB/s{'info': ''}]\u001b[A\n",
            " 15% 181M/1.15G [00:00<00:03, 315MB/s{'info': ''}]\u001b[A\n",
            " 18% 214M/1.15G [00:00<00:03, 324MB/s{'info': ''}]\u001b[A\n",
            " 21% 243M/1.15G [00:00<00:03, 314MB/s{'info': ''}]\u001b[A\n",
            " 23% 271M/1.15G [00:00<00:03, 303MB/s{'info': ''}]\u001b[A\n",
            " 25% 298M/1.15G [00:01<00:03, 296MB/s{'info': ''}]\u001b[A\n",
            " 28% 325M/1.15G [00:01<00:03, 288MB/s{'info': ''}]\u001b[A\n",
            " 30% 352M/1.15G [00:01<00:03, 285MB/s{'info': ''}]\u001b[A\n",
            " 32% 381M/1.15G [00:01<00:02, 289MB/s{'info': ''}]\u001b[A\n",
            " 35% 411M/1.15G [00:01<00:02, 293MB/s{'info': ''}]\u001b[A\n",
            " 37% 439M/1.15G [00:01<00:02, 293MB/s{'info': ''}]\u001b[A\n",
            " 40% 470M/1.15G [00:01<00:02, 301MB/s{'info': ''}]\u001b[A\n",
            " 42% 501M/1.15G [00:01<00:02, 306MB/s{'info': ''}]\u001b[A\n",
            " 45% 530M/1.15G [00:01<00:02, 305MB/s{'info': ''}]\u001b[A\n",
            " 47% 560M/1.15G [00:01<00:02, 307MB/s{'info': ''}]\u001b[A\n",
            " 50% 589M/1.15G [00:02<00:02, 305MB/s{'info': ''}]\u001b[A\n",
            " 53% 621M/1.15G [00:02<00:01, 312MB/s{'info': ''}]\u001b[A\n",
            " 55% 653M/1.15G [00:02<00:01, 317MB/s{'info': ''}]\u001b[A\n",
            " 58% 685M/1.15G [00:02<00:01, 319MB/s{'info': ''}]\u001b[A\n",
            " 61% 717M/1.15G [00:02<00:01, 324MB/s{'info': ''}]\u001b[A\n",
            " 64% 751M/1.15G [00:02<00:01, 333MB/s{'info': ''}]\u001b[A\n",
            " 66% 783M/1.15G [00:02<00:01, 333MB/s{'info': ''}]\u001b[A\n",
            " 69% 813M/1.15G [00:02<00:01, 326MB/s{'info': ''}]\u001b[A\n",
            " 72% 845M/1.15G [00:02<00:01, 328MB/s{'info': ''}]\u001b[A\n",
            " 74% 877M/1.15G [00:02<00:00, 327MB/s{'info': ''}]\u001b[A\n",
            " 77% 905M/1.15G [00:03<00:00, 315MB/s{'info': ''}]\u001b[A\n",
            " 79% 935M/1.15G [00:03<00:00, 312MB/s{'info': ''}]\u001b[A\n",
            " 82% 971M/1.15G [00:03<00:00, 330MB/s{'info': ''}]\u001b[A\n",
            " 85% 0.98G/1.15G [00:03<00:00, 341MB/s{'info': ''}]\u001b[A\n",
            " 88% 1.02G/1.15G [00:03<00:00, 349MB/s{'info': ''}]\u001b[A\n",
            " 91% 1.05G/1.15G [00:03<00:00, 355MB/s{'info': ''}]\u001b[A\n",
            " 94% 1.09G/1.15G [00:03<00:00, 350MB/s{'info': ''}]\u001b[A\n",
            " 97% 1.12G/1.15G [00:03<00:00, 338MB/s{'info': ''}]\u001b[A\n",
            " 99% 1.14G/1.15G [00:03<00:00, 320MB/s{'info': ''}]\u001b[A\n",
            "Checkout:   0% 0/1 [00:00<?, ?file/s{'info': ''}]\n",
            ".XcTwgueEdmBuTnuUWgovwn.tmp:   0% 0.00/1.24G [00:00<?, ?it/s]\u001b[A\n",
            ".XcTwgueEdmBuTnuUWgovwn.tmp:   0% 0.00/1.24G [00:00<?, ?it/s{'info': ''}]\u001b[A\n",
            ".XcTwgueEdmBuTnuUWgovwn.tmp:   4% 47.0M/1.15G [00:00<00:02, 483MB/s{'info': ''}]\u001b[A\n",
            ".XcTwgueEdmBuTnuUWgovwn.tmp:   8% 94.0M/1.15G [00:00<00:02, 459MB/s{'info': ''}]\u001b[A\n",
            ".XcTwgueEdmBuTnuUWgovwn.tmp:  12% 138M/1.15G [00:00<00:03, 341MB/s{'info': ''}] \u001b[A\n",
            ".XcTwgueEdmBuTnuUWgovwn.tmp:  15% 174M/1.15G [00:00<00:03, 301MB/s{'info': ''}]\u001b[A\n",
            ".XcTwgueEdmBuTnuUWgovwn.tmp:  17% 206M/1.15G [00:00<00:03, 309MB/s{'info': ''}]\u001b[A\n",
            ".XcTwgueEdmBuTnuUWgovwn.tmp:  20% 237M/1.15G [00:00<00:03, 311MB/s{'info': ''}]\u001b[A\n",
            ".XcTwgueEdmBuTnuUWgovwn.tmp:  23% 268M/1.15G [00:00<00:03, 314MB/s{'info': ''}]\u001b[A\n",
            ".XcTwgueEdmBuTnuUWgovwn.tmp:  25% 299M/1.15G [00:00<00:02, 311MB/s{'info': ''}]\u001b[A\n",
            ".XcTwgueEdmBuTnuUWgovwn.tmp:  28% 330M/1.15G [00:01<00:02, 306MB/s{'info': ''}]\u001b[A\n",
            ".XcTwgueEdmBuTnuUWgovwn.tmp:  30% 360M/1.15G [00:01<00:02, 306MB/s{'info': ''}]\u001b[A\n",
            ".XcTwgueEdmBuTnuUWgovwn.tmp:  33% 393M/1.15G [00:01<00:02, 317MB/s{'info': ''}]\u001b[A\n",
            ".XcTwgueEdmBuTnuUWgovwn.tmp:  37% 431M/1.15G [00:01<00:02, 340MB/s{'info': ''}]\u001b[A\n",
            ".XcTwgueEdmBuTnuUWgovwn.tmp:  39% 466M/1.15G [00:01<00:02, 347MB/s{'info': ''}]\u001b[A\n",
            ".XcTwgueEdmBuTnuUWgovwn.tmp:  42% 500M/1.15G [00:01<00:02, 340MB/s{'info': ''}]\u001b[A\n",
            ".XcTwgueEdmBuTnuUWgovwn.tmp:  45% 533M/1.15G [00:01<00:02, 336MB/s{'info': ''}]\u001b[A\n",
            ".XcTwgueEdmBuTnuUWgovwn.tmp:  48% 567M/1.15G [00:01<00:01, 340MB/s{'info': ''}]\u001b[A\n",
            ".XcTwgueEdmBuTnuUWgovwn.tmp:  52% 609M/1.15G [00:01<00:01, 368MB/s{'info': ''}]\u001b[A\n",
            ".XcTwgueEdmBuTnuUWgovwn.tmp:  55% 647M/1.15G [00:01<00:01, 375MB/s{'info': ''}]\u001b[A\n",
            ".XcTwgueEdmBuTnuUWgovwn.tmp:  58% 683M/1.15G [00:02<00:01, 269MB/s{'info': ''}]\u001b[A\n",
            ".XcTwgueEdmBuTnuUWgovwn.tmp:  60% 713M/1.15G [00:02<00:02, 205MB/s{'info': ''}]\u001b[A\n",
            ".XcTwgueEdmBuTnuUWgovwn.tmp:  63% 738M/1.15G [00:02<00:02, 205MB/s{'info': ''}]\u001b[A\n",
            ".XcTwgueEdmBuTnuUWgovwn.tmp:  65% 770M/1.15G [00:02<00:01, 232MB/s{'info': ''}]\u001b[A\n",
            ".XcTwgueEdmBuTnuUWgovwn.tmp:  67% 796M/1.15G [00:02<00:01, 240MB/s{'info': ''}]\u001b[A\n",
            ".XcTwgueEdmBuTnuUWgovwn.tmp:  70% 822M/1.15G [00:02<00:01, 234MB/s{'info': ''}]\u001b[A\n",
            ".XcTwgueEdmBuTnuUWgovwn.tmp:  73% 859M/1.15G [00:03<00:01, 272MB/s{'info': ''}]\u001b[A\n",
            ".XcTwgueEdmBuTnuUWgovwn.tmp:  75% 887M/1.15G [00:03<00:01, 274MB/s{'info': ''}]\u001b[A\n",
            ".XcTwgueEdmBuTnuUWgovwn.tmp:  78% 923M/1.15G [00:03<00:00, 300MB/s{'info': ''}]\u001b[A\n",
            ".XcTwgueEdmBuTnuUWgovwn.tmp:  81% 961M/1.15G [00:03<00:00, 327MB/s{'info': ''}]\u001b[A\n",
            ".XcTwgueEdmBuTnuUWgovwn.tmp:  84% 994M/1.15G [00:03<00:01, 138MB/s{'info': ''}]\u001b[A\n",
            " 86% 1.00G/1.15G [00:04<00:01, 89.1MB/s{'info': ''}]                           \u001b[A\n",
            " 88% 1.01G/1.15G [00:05<00:03, 46.1MB/s{'info': ''}]\u001b[A\n",
            " 92% 1.06G/1.15G [00:06<00:01, 65.4MB/s{'info': ''}]\u001b[A\n",
            " 93% 1.07G/1.15G [00:06<00:01, 60.2MB/s{'info': ''}]\u001b[A\n",
            " 94% 1.08G/1.15G [00:06<00:01, 54.6MB/s{'info': ''}]\u001b[A\n",
            " 95% 1.09G/1.15G [00:06<00:01, 53.8MB/s{'info': ''}]\u001b[A\n",
            " 95% 1.10G/1.15G [00:07<00:01, 49.2MB/s{'info': ''}]\u001b[A\n",
            " 96% 1.11G/1.15G [00:07<00:01, 48.6MB/s{'info': ''}]\u001b[A\n",
            " 96% 1.11G/1.15G [00:07<00:00, 45.0MB/s{'info': ''}]\u001b[A\n",
            " 97% 1.12G/1.15G [00:07<00:00, 45.2MB/s{'info': ''}]\u001b[A\n",
            " 98% 1.12G/1.15G [00:07<00:00, 44.9MB/s{'info': ''}]\u001b[A\n",
            " 98% 1.13G/1.15G [00:07<00:00, 43.6MB/s{'info': ''}]\u001b[A\n",
            " 98% 1.13G/1.15G [00:08<00:00, 42.8MB/s{'info': ''}]\u001b[A\n",
            " 99% 1.14G/1.15G [00:08<00:00, 37.9MB/s{'info': ''}]\u001b[A\n",
            " 99% 1.14G/1.15G [00:08<00:00, 42.2MB/s{'info': ''}]\u001b[A\n",
            "100% 1.15G/1.15G [00:08<00:00, 43.8MB/s{'info': ''}]\u001b[A\n",
            "\u001b[32mA\u001b[0m       data/raw/chest_xray.zip\n",
            "1 file added and 1 file fetched\n",
            "\u001b[0m"
          ]
        }
      ]
    },
    {
      "cell_type": "code",
      "metadata": {
        "id": "59bilSWG2l6S"
      },
      "source": [
        "import os\n",
        "import pathlib\n",
        "import numpy as np\n",
        "import zipfile\n",
        "import numbers\n",
        "import torch\n",
        "from torch import nn\n",
        "from torch import utils\n",
        "from torchvision import io\n",
        "from torchvision import transforms\n",
        "import torchvision.transforms.functional as F\n",
        "from torchvision.transforms.functional import pad\n",
        "from torch.utils.data import DataLoader, random_split"
      ],
      "execution_count": 6,
      "outputs": []
    },
    {
      "cell_type": "code",
      "metadata": {
        "id": "4Fq3CqkO3qUp"
      },
      "source": [
        "def get_padding(image):    \n",
        "    w, h = image.size\n",
        "    max_wh = np.max([w, h])\n",
        "    h_padding = (max_wh - w) / 2\n",
        "    v_padding = (max_wh - h) / 2\n",
        "    l_pad = h_padding if h_padding % 1 == 0 else h_padding+0.5\n",
        "    t_pad = v_padding if v_padding % 1 == 0 else v_padding+0.5\n",
        "    r_pad = h_padding if h_padding % 1 == 0 else h_padding-0.5\n",
        "    b_pad = v_padding if v_padding % 1 == 0 else v_padding-0.5\n",
        "    padding = (int(l_pad), int(t_pad), int(r_pad), int(b_pad))\n",
        "    return padding\n",
        "\n",
        "class NewPad(object):\n",
        "    def __init__(self, fill=0, padding_mode='constant'):\n",
        "        assert isinstance(fill, (numbers.Number, str, tuple))\n",
        "        assert padding_mode in ['constant', 'edge', 'reflect', 'symmetric']\n",
        "\n",
        "        self.fill = fill\n",
        "        self.padding_mode = padding_mode\n",
        "        \n",
        "    def __call__(self, img):\n",
        "        \"\"\"\n",
        "        Args:\n",
        "            img (PIL Image): Image to be padded.\n",
        "\n",
        "        Returns:\n",
        "            PIL Image: Padded image.\n",
        "        \"\"\"\n",
        "        return F.pad(img, get_padding(img), self.fill, self.padding_mode)\n",
        "    \n",
        "    def __repr__(self):\n",
        "        return self.__class__.__name__ + '(padding={0}, fill={1}, padding_mode={2})'.\\\n",
        "            format(self.fill, self.padding_mode)"
      ],
      "execution_count": 7,
      "outputs": []
    },
    {
      "cell_type": "code",
      "metadata": {
        "id": "IkGs1EFa7cwa"
      },
      "source": [
        "CONSTANT_MEAN = [0.485, 0.456, 0.406]\n",
        "CONSTANT_STD = [0.229, 0.224, 0.225]\n",
        "data_transforms = {\n",
        "    'train': transforms.Compose([\n",
        "        transforms.RandomHorizontalFlip()\n",
        "    ]),\n",
        "    'general': transforms.Compose([\n",
        "        #NewPad(),\n",
        "        transforms.Resize(size=500),\n",
        "        transforms.ConvertImageDtype(dtype=torch.float32), \n",
        "        transforms.Grayscale(num_output_channels=3),\n",
        "        #transforms.ToTensor(),\n",
        "        transforms.Normalize(mean=CONSTANT_MEAN, std=CONSTANT_STD)\n",
        "    ]),\n",
        "}"
      ],
      "execution_count": 8,
      "outputs": []
    },
    {
      "cell_type": "code",
      "metadata": {
        "id": "0njpWm0At-Yp"
      },
      "source": [
        "class ChestXray(utils.data.Dataset):\n",
        "    def __init__(self, path_to_zip, set_name, class_names = {\"NORMAL\": 0, \"PNEUMONIA\": 1}):\n",
        "        self._path_to_zip = path_to_zip\n",
        "        self._class_mapping = class_names\n",
        "        self._image_lists = []\n",
        "        self._image_classes = []\n",
        "        self._set_name = set_name\n",
        "        assert set_name in ['train', 'test', 'val']\n",
        "        if set_name == 'train':\n",
        "          self._transform = transforms.Compose([data_transforms['general'], data_transforms['train']])\n",
        "        elif set_name == 'test' or set_name == 'val':\n",
        "          self._transform = transforms.Compose([data_transforms['general']]);\n",
        "\n",
        "        \n",
        "        with zipfile.ZipFile(path_to_zip) as zip_file:\n",
        "            for zip_info in zip_file.infolist():\n",
        "                if not zip_info.is_dir():\n",
        "                    image_path = pathlib.Path(zip_info.filename)\n",
        "                    if self._set_name == image_path.parent.parent.name:\n",
        "                        self._image_classes.append(self._class_mapping[image_path.parent.name])\n",
        "                        self._image_lists.append(zip_info)\n",
        "\n",
        "    def __len__(self):\n",
        "        return len(self._image_lists)\n",
        "    \n",
        "    def __getitem__(self, index):\n",
        "        with zipfile.ZipFile(self._path_to_zip) as zip_file:\n",
        "            with zip_file.open(self._image_lists[index], \"r\") as image_file:\n",
        "                image = np.frombuffer(image_file.read(), dtype=np.uint8)\n",
        "                image = io.decode_jpeg(torch.from_numpy(image.copy()), mode=io.ImageReadMode.RGB)\n",
        "\n",
        "        return {\"image\": self._transform(image), \"label\": self._image_classes[index]}\n",
        "\n"
      ],
      "execution_count": 15,
      "outputs": []
    },
    {
      "cell_type": "code",
      "metadata": {
        "id": "mwrngMSNt-Yq"
      },
      "source": [
        "train_dataset = ChestXray(\"/content/image-cls/data/raw/chest_xray.zip\", \"train\")\n",
        "test_dataset = ChestXray(\"/content/image-cls/data/raw/chest_xray.zip\", \"test\")\n",
        "val_dataset = ChestXray(\"/content/image-cls/data/raw/chest_xray.zip\", \"val\")"
      ],
      "execution_count": 16,
      "outputs": []
    },
    {
      "cell_type": "code",
      "metadata": {
        "colab": {
          "base_uri": "https://localhost:8080/"
        },
        "id": "432OVvl8t-Yr",
        "outputId": "27b29ac4-89fd-428c-a6a6-5af5473cc5e6"
      },
      "source": [
        "train_dataset[0][\"image\"].shape"
      ],
      "execution_count": 17,
      "outputs": [
        {
          "output_type": "execute_result",
          "data": {
            "text/plain": [
              "torch.Size([3, 500, 562])"
            ]
          },
          "metadata": {},
          "execution_count": 17
        }
      ]
    },
    {
      "cell_type": "code",
      "metadata": {
        "colab": {
          "base_uri": "https://localhost:8080/"
        },
        "id": "0ojMpQ4Ht-Yr",
        "outputId": "9590ec99-4b77-4865-e008-10d07f7a9e86"
      },
      "source": [
        "test_dataset[0][\"image\"].shape"
      ],
      "execution_count": 18,
      "outputs": [
        {
          "output_type": "execute_result",
          "data": {
            "text/plain": [
              "torch.Size([3, 500, 705])"
            ]
          },
          "metadata": {},
          "execution_count": 18
        }
      ]
    },
    {
      "cell_type": "code",
      "metadata": {
        "colab": {
          "base_uri": "https://localhost:8080/"
        },
        "id": "rBdPwEHUt-Ys",
        "outputId": "bc2185e4-7c1a-438e-cc8b-440f222c89fb"
      },
      "source": [
        "val_dataset[0][\"image\"].shape"
      ],
      "execution_count": 19,
      "outputs": [
        {
          "output_type": "execute_result",
          "data": {
            "text/plain": [
              "torch.Size([3, 500, 627])"
            ]
          },
          "metadata": {},
          "execution_count": 19
        }
      ]
    },
    {
      "cell_type": "code",
      "metadata": {
        "id": "kNyzs27wt-Ys"
      },
      "source": [
        "dataloader = utils.data.DataLoader(test_dataset, \n",
        "                                   batch_size=64, \n",
        "                                   pin_memory=True, \n",
        "                                   shuffle=False, \n",
        "                                   drop_last=True, \n",
        "                                   num_workers=2)"
      ],
      "execution_count": 21,
      "outputs": []
    },
    {
      "cell_type": "code",
      "metadata": {
        "id": "Grhi_x8WES1D"
      },
      "source": [
        "class XrayDataLoader(utils.data.DataLoader):\n",
        "    def __init__(self, path_to_zip, set_name, batch_size=64,\n",
        "                 pin_memory=True, shuffle=False, drop_last=True, num_workers=1):\n",
        "        self._path_to_zip = path_to_zip\n",
        "        self._set_name = set_name\n",
        "        self._batch_size = batch_size\n",
        "        self._pin_memory = pin_memory\n",
        "        #self._shuffle = shuffle\n",
        "        self._drop_last = drop_last\n",
        "        self._num_workers = num_workers\n",
        "\n",
        "        assert set_name in [\"train\", \"test\", \"val\"]\n",
        "        if set_name == 'train':\n",
        "          self._shuffle = False\n",
        "        elif set_name == 'test' or set_name == 'val':\n",
        "          self._shuffle = True;\n",
        "\n",
        "    def __getitem__(self):\n",
        "        return utils.data.DataLoader(ChestXray(path_to_zip, set_name), batch_size=self._batch_size, pin_memory = self._pin_memory,\n",
        "                              shuffle = self._shuffle, drop_last = self._drop_last, num_workers = self._num_workers)    "
      ],
      "execution_count": 25,
      "outputs": []
    },
    {
      "cell_type": "code",
      "metadata": {
        "id": "7g9yRoWpJifT"
      },
      "source": [
        "dataloader = XrayDataLoader(\"/content/image-cls/data/raw/chest_xray.zip\", \"test\", batch_size=64, \n",
        "                                   pin_memory=True, \n",
        "                                   shuffle=False, \n",
        "                                   drop_last=True, \n",
        "                                   num_workers=2)"
      ],
      "execution_count": 26,
      "outputs": []
    },
    {
      "cell_type": "code",
      "metadata": {
        "id": "tl6aqk8XJyyS"
      },
      "source": [
        ""
      ],
      "execution_count": null,
      "outputs": []
    },
    {
      "cell_type": "markdown",
      "metadata": {
        "id": "DyMSlgniKUdp"
      },
      "source": [
        "# New Section"
      ]
    }
  ]
}